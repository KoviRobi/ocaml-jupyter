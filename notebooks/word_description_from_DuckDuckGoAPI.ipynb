{
 "cells": [
  {
   "cell_type": "markdown",
   "metadata": {},
   "source": [
    "# Get a description of a word from DuckDuckGo API\n",
    "\n",
    "[Cohttp](https://github.com/mirage/ocaml-cohttp) ia a lightweight HTTP client/server library. Its interface is simple and easy to use. This library is useful for web scraping and requesting to API servers. In this example, we obtain a description of a given word from the DuckDuckGo API."
   ]
  },
  {
   "cell_type": "code",
   "execution_count": 1,
   "metadata": {
    "scrolled": true
   },
   "outputs": [
    {
     "name": "stderr",
     "output_type": "stream",
     "text": [
     ]
    }
   ],
   "source": [
    "#require \"cohttp,cohttp-lwt-unix,ppx_yojson_conv\" ;;"
   ]
  },
  {
   "cell_type": "code",
   "execution_count": 2,
   "metadata": {},
   "outputs": [],
   "source": [
    "open Lwt.Infix ;;"
   ]
  },
  {
   "cell_type": "code",
   "execution_count": 3,
   "metadata": {},
   "outputs": [
    {
     "data": {
      "text/plain": [
       "type t = { definition : string; abstract : string; }\n",
       "val t_of_yojson : Ppx_yojson_conv_lib.Yojson.Safe.t -> t = <fun>\n",
       "val yojson_of_t : t -> Ppx_yojson_conv_lib.Yojson.Safe.t = <fun>\n"
      ]
     },
     "execution_count": 3,
     "metadata": {},
     "output_type": "execute_result"
    }
   ],
   "source": [
    "type t = {\n",
    "    definition : string [@key \"Definition\"];\n",
    "    abstract : string [@key \"Abstract\"];\n",
    "  } [@@deriving yojson] [@@yojson.allow_extra_fields]"
   ]
  },
  {
   "cell_type": "code",
   "execution_count": 4,
   "metadata": {
    "scrolled": true
   },
   "outputs": [
    {
     "data": {
      "text/plain": [
       "val query : string = \"OCaml\"\n"
      ]
     },
     "execution_count": 4,
     "metadata": {},
     "output_type": "execute_result"
    },
    {
     "data": {
      "text/plain": [
       "val body : string option =\n",
       "  Some\n",
       "   \"OCaml is a general-purpose, multi-paradigm programming language which extends the Caml dialect of ML with object-oriented features. OCaml was created in 1996 by Xavier Leroy, Jérôme Vouillon, Damien Doligez, Didier Rémy, Ascánder Suárez, and others. The OCaml toolchain includes an interactive\"... (* string length 994; truncated *)\n"
      ]
     },
     "execution_count": 4,
     "metadata": {},
     "output_type": "execute_result"
    }
   ],
   "source": [
    "let query = \"OCaml\" (* Search query *)\n",
    "let body =\n",
    "  Lwt_main.run begin\n",
    "    let base_uri = Uri.of_string \"http://api.duckduckgo.com/?format=json\" in\n",
    "    let uri = Uri.add_query_param base_uri (\"q\", [query]) in\n",
    "    Cohttp_lwt_unix.Client.get uri >>= fun (resp, body) -> (* GET contents from a given uri *)\n",
    "    assert (Cohttp.Response.status resp = `OK) ; (* Check HTTP response code *)\n",
    "    Cohttp_lwt.Body.to_string body >|= fun body -> (* Receive contents *)\n",
    "    Yojson.Safe.from_string body\n",
    "    |> [%of_yojson: t]\n",
    "    |> function\n",
    "    | { definition = \"\"; abstract = \"\"; } -> None\n",
    "    | { definition = \"\"; abstract; } -> Some abstract\n",
    "    | { definition; _ } -> Some definition\n",
    "  end"
   ]
  },
  {
   "cell_type": "code",
   "execution_count": null,
   "metadata": {
    "collapsed": true
   },
   "outputs": [],
   "source": []
  }
 ],
 "metadata": {
  "kernelspec": {
   "display_name": "OCaml 4.12.0",
   "language": "OCaml",
   "name": "ocaml-jupyter"
  },
  "language_info": {
   "codemirror_mode": "text/x-ocaml",
   "file_extension": ".ml",
   "mimetype": "text/x-ocaml",
   "name": "OCaml",
   "nbconverter_exporter": null,
   "pygments_lexer": "OCaml",
   "version": "4.12.0"
  }
 },
 "nbformat": 4,
 "nbformat_minor": 2
}
